{
 "cells": [
  {
   "cell_type": "markdown",
   "id": "20f6e64c",
   "metadata": {},
   "source": [
    "# BIDNAMIC CHALLENGE"
   ]
  },
  {
   "cell_type": "markdown",
   "id": "9f171d9d",
   "metadata": {},
   "source": [
    "1 - Import libraries, and create variables "
   ]
  },
  {
   "cell_type": "code",
   "execution_count": 1,
   "id": "df0231d9",
   "metadata": {},
   "outputs": [],
   "source": [
    "import psycopg2\n",
    "import pandas as pd\n",
    "hostname = 'localhost'\n",
    "database = 'bidnamic'\n",
    "username = 'postgres'\n",
    "pwd = 'a'\n",
    "port_id = 5432\n",
    "conn = None"
   ]
  },
  {
   "cell_type": "code",
   "execution_count": 37,
   "id": "338f466e",
   "metadata": {},
   "outputs": [],
   "source": [
    "search_terms=pd.read_csv('search_terms.csv')\n",
    "campaigns=pd.read_csv('campaigns.csv')\n",
    "adgroups=pd.read_csv('adgroups.csv')\n"
   ]
  },
  {
   "cell_type": "code",
   "execution_count": 4,
   "id": "0b7a3d6f",
   "metadata": {},
   "outputs": [],
   "source": [
    "conn = psycopg2.connect(database=\"bidnamic\",\n",
    "                        user='postgres', password='a', \n",
    "                        host='127.0.0.1', port='5432'\n",
    ")\n",
    "conn.autocommit = True\n",
    "cursor = conn.cursor()"
   ]
  },
  {
   "cell_type": "markdown",
   "id": "8700f52c",
   "metadata": {},
   "source": [
    "2 - Create table in postgreSQL"
   ]
  },
  {
   "cell_type": "code",
   "execution_count": 39,
   "id": "48d17bf5",
   "metadata": {},
   "outputs": [],
   "source": [
    "tables = [\"campaigns\",\"adgroups\",\"search_terms\"]\n",
    "columns= [campaigns.columns.tolist(),adgroups.columns.tolist(),\n",
    "         search_terms.columns.tolist()]  \n",
    "columnsType = [[\"NUMERIC(1000)\",\"VARCHAR (1000) NOT NULL\",\"VARCHAR (1000) NOT NULL\"],\n",
    "               [\"NUMERIC(1000)\",\"NUMERIC(1000)\",\"VARCHAR (1000) NOT NULL\",\"VARCHAR (1000) NOT NULL\"],\n",
    "               [\"DATE\",\"NUMERIC(1000)\",\"NUMERIC(1000)\",\"NUMERIC(1000)\",\"FLOAT(10) NOT NULL\",\n",
    "                \"FLOAT(10) NOT NULL\",\"FLOAT(10) NOT NULL\",\"VARCHAR (1000) NOT NULL\"]]\n",
    "\n",
    "for t,i in zip(tables,range(0,3)):\n",
    "    sql = 'CREATE TABLE ' + t +' ('\n",
    "    for a,b in zip(columns[i],columnsType[i]):\n",
    "        sql += a+' '+b+','\n",
    "    sql = sql [:-1]   \n",
    "    sql += ');' \n",
    "    cursor.execute(sql)"
   ]
  },
  {
   "cell_type": "markdown",
   "id": "a1eb7197",
   "metadata": {},
   "source": [
    "3- Injecting the data CSV=>PostgreSQL with standard python implementation"
   ]
  },
  {
   "cell_type": "code",
   "execution_count": 40,
   "id": "f41b6fa3",
   "metadata": {
    "scrolled": true
   },
   "outputs": [],
   "source": [
    "for t,i in zip(tables,range(0,3)):\n",
    "    sql = 'COPY ' + t +' ('\n",
    "    for a,b in zip(columns[i],columnsType[i]):\n",
    "        sql += a+','\n",
    "    sql = sql [:-1]   \n",
    "    sql += ') '\n",
    "    sql += '''FROM '/Users/I/Desktop/bidnamic/'''\n",
    "    sql += t +'''.csv'  CSV HEADER DELIMITER ',';'''\n",
    "    #print(sql)\n",
    "    cursor.execute(sql)"
   ]
  },
  {
   "cell_type": "markdown",
   "id": "75796882",
   "metadata": {},
   "source": [
    "4- Showing the ROAS by country and priority\n",
    "\n",
    "4.1- Innerjoin for ad_group_id\n",
    "    - We can do it through standard python implementation, but it takes too much time\n",
    "        sql = '''SELECT *\n",
    "        FROM search_terms\n",
    "        INNER JOIN adgroups\n",
    "        ON search_terms.ad_group_id = adgroups.ad_group_id;'''\n",
    "        cursor.execute(sql)\n",
    "        for i in cursor.fetchall():\n",
    "            print(i)\n",
    "        sql = '''SELECT *\n",
    "        FROM search_terms'''\n",
    "        cursor.execute(sql)\n",
    "    - We can do it through pandas python implementation, but it takes too much time\n",
    "        innerJoin  = pd.read_sql_query('''SELECT *\n",
    "        FROM search_terms\n",
    "        INNER JOIN adgroups\n",
    "        ON search_terms.ad_group_id = adgroups.ad_group_id''',con=conn)\n",
    "    - We can query first through pandas python implementation, and then do it through pandas merge\n",
    "        search_terms = pd.read_sql_query('select * from \"search_terms\"',con=conn)\n",
    "        adgroups = pd.read_sql_query('select * from \"adgroups\"',con=conn)\n",
    "        innerJoin = pd.merge(search_terms,adgroups,on='ad_group_id')\n",
    "    This last solution is the fastest\n"
   ]
  },
  {
   "cell_type": "code",
   "execution_count": 46,
   "id": "d03212b1",
   "metadata": {},
   "outputs": [],
   "source": [
    "search_terms = pd.read_sql_query('select * from \"search_terms\"',con=conn)\n",
    "adgroups = pd.read_sql_query('select * from \"adgroups\"',con=conn)"
   ]
  },
  {
   "cell_type": "code",
   "execution_count": 41,
   "id": "1b59e892",
   "metadata": {},
   "outputs": [],
   "source": [
    "innerJoin = pd.merge(search_terms,adgroups,on='ad_group_id')"
   ]
  },
  {
   "cell_type": "markdown",
   "id": "abce381a",
   "metadata": {},
   "source": [
    "4.2- Calculate ROAS"
   ]
  },
  {
   "cell_type": "code",
   "execution_count": null,
   "id": "fbffacbf",
   "metadata": {},
   "outputs": [],
   "source": []
  },
  {
   "cell_type": "code",
   "execution_count": 49,
   "id": "9ca0ead7",
   "metadata": {},
   "outputs": [],
   "source": [
    "country = {}\n",
    "priority = {}\n",
    "for ijcv,ijc,ija in zip(innerJoin.conversion_value,innerJoin.cost,innerJoin.alias):\n",
    "    ija = ija.split(\" - \")        \n",
    "    if ija[2] not in country:\n",
    "        country[ija[2]] = [[],[]]\n",
    "    if ija[2] not in priority:\n",
    "        priority[ija[4]] =[[],[]]\n",
    "    country[ija[2]][0] += [ijcv]\n",
    "    country[ija[2]][1] += [ijc]\n",
    "    priority[ija[4]][0] += [ijcv]\n",
    "    priority[ija[4]][1] += [ijc]"
   ]
  },
  {
   "cell_type": "code",
   "execution_count": 52,
   "id": "6c9ce0c6",
   "metadata": {},
   "outputs": [],
   "source": [
    "for c in  country.keys():\n",
    "    country[c][0] = sum(country[c][0])/len(country[c][0])\n",
    "    country[c][1] = sum(country[c][1])/len(country[c][1])\n",
    "    if country[c][1] != 0:\n",
    "         country[c] = country[c][0]/country[c][1]\n",
    "    else:\n",
    "        country[c] = 0\n",
    "for p in  priority.keys():\n",
    "    priority[p][0] = sum(priority[p][0])/len(priority[p][0])\n",
    "    priority[p][1] = sum(priority[p][1])/len(priority[p][1])\n",
    "    if priority[p][1] !=0:\n",
    "        priority[p] = priority[p][0]/priority[p][1]\n",
    "    else:\n",
    "        priority[p] = 0"
   ]
  },
  {
   "cell_type": "markdown",
   "id": "a2aabed5",
   "metadata": {},
   "source": [
    "5 - Showing ROAS"
   ]
  },
  {
   "cell_type": "code",
   "execution_count": 53,
   "id": "a1e81d9d",
   "metadata": {},
   "outputs": [
    {
     "data": {
      "text/plain": [
       "{'LOW': 0, 'HIGH': 0, 'MEDIUM': 0}"
      ]
     },
     "execution_count": 53,
     "metadata": {},
     "output_type": "execute_result"
    }
   ],
   "source": [
    "priority"
   ]
  },
  {
   "cell_type": "code",
   "execution_count": 54,
   "id": "bf8eee80",
   "metadata": {},
   "outputs": [
    {
     "data": {
      "text/plain": [
       "{'GB': 4.0540028836590665}"
      ]
     },
     "execution_count": 54,
     "metadata": {},
     "output_type": "execute_result"
    }
   ],
   "source": [
    "country"
   ]
  },
  {
   "cell_type": "code",
   "execution_count": null,
   "id": "aaf759a2",
   "metadata": {},
   "outputs": [],
   "source": []
  }
 ],
 "metadata": {
  "kernelspec": {
   "display_name": "Python 3",
   "language": "python",
   "name": "python3"
  },
  "language_info": {
   "codemirror_mode": {
    "name": "ipython",
    "version": 3
   },
   "file_extension": ".py",
   "mimetype": "text/x-python",
   "name": "python",
   "nbconvert_exporter": "python",
   "pygments_lexer": "ipython3",
   "version": "3.8.8"
  }
 },
 "nbformat": 4,
 "nbformat_minor": 5
}
